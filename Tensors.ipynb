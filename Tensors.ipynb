{
  "nbformat": 4,
  "nbformat_minor": 0,
  "metadata": {
    "colab": {
      "provenance": [],
      "gpuType": "T4",
      "authorship_tag": "ABX9TyPlJgiELhNKmyYts5SBR0kO",
      "include_colab_link": true
    },
    "kernelspec": {
      "name": "python3",
      "display_name": "Python 3"
    },
    "language_info": {
      "name": "python"
    },
    "accelerator": "GPU"
  },
  "cells": [
    {
      "cell_type": "markdown",
      "metadata": {
        "id": "view-in-github",
        "colab_type": "text"
      },
      "source": [
        "<a href=\"https://colab.research.google.com/github/Konica24/PyTorch-Codemy/blob/main/Tensors.ipynb\" target=\"_parent\"><img src=\"https://colab.research.google.com/assets/colab-badge.svg\" alt=\"Open In Colab\"/></a>"
      ]
    },
    {
      "cell_type": "markdown",
      "source": [
        "**TENSORS**"
      ],
      "metadata": {
        "id": "GecZUwpBQT_j"
      }
    },
    {
      "cell_type": "markdown",
      "source": [
        "\n",
        "\n",
        "*   A torch.Tensor is a multi-dimensional matrix containing elements of a single data type.\n",
        "*   Similar to Numpy Arrays, but full of fun things that make them work better on GPU's (vs regular CPU's).\n",
        "\n",
        "\n",
        "*   default data type of float32.\n",
        "*   More suitable for deep learning than a numpy array.\n",
        "\n",
        "\n",
        "\n",
        "\n",
        "\n"
      ],
      "metadata": {
        "id": "voN8SS2EQYHh"
      }
    },
    {
      "cell_type": "code",
      "source": [
        "import torch\n",
        "import numpy as np"
      ],
      "metadata": {
        "id": "owI8kAGMQ6cf"
      },
      "execution_count": 1,
      "outputs": []
    },
    {
      "cell_type": "markdown",
      "source": [
        "**LISTS**"
      ],
      "metadata": {
        "id": "fk7Xoy6ZRE3C"
      }
    },
    {
      "cell_type": "code",
      "source": [
        "my_list = [[1,2,3,4,5], [6,7,8, 9, 10]]\n",
        "my_list"
      ],
      "metadata": {
        "colab": {
          "base_uri": "https://localhost:8080/"
        },
        "id": "xHqrOq2MRLPe",
        "outputId": "552ae511-a84a-43e9-fe90-3a333a75ddfa"
      },
      "execution_count": 3,
      "outputs": [
        {
          "output_type": "execute_result",
          "data": {
            "text/plain": [
              "[[1, 2, 3, 4, 5], [6, 7, 8, 9, 10]]"
            ]
          },
          "metadata": {},
          "execution_count": 3
        }
      ]
    },
    {
      "cell_type": "markdown",
      "source": [
        "**NUMPY** **ARRAYS**"
      ],
      "metadata": {
        "id": "ZG2zLeBIRwXI"
      }
    },
    {
      "cell_type": "code",
      "source": [
        "np1 = np.random.rand(3,4)\n",
        "np1"
      ],
      "metadata": {
        "colab": {
          "base_uri": "https://localhost:8080/"
        },
        "id": "GvD1sMCMRzMp",
        "outputId": "524735b0-a4b3-467e-a43c-a629411692c4"
      },
      "execution_count": 5,
      "outputs": [
        {
          "output_type": "execute_result",
          "data": {
            "text/plain": [
              "array([[0.84230646, 0.83082975, 0.39577247, 0.29109335],\n",
              "       [0.45997531, 0.6387949 , 0.24345856, 0.33839967],\n",
              "       [0.47614083, 0.37408915, 0.19428546, 0.01050305]])"
            ]
          },
          "metadata": {},
          "execution_count": 5
        }
      ]
    },
    {
      "cell_type": "code",
      "source": [
        "np1.dtype"
      ],
      "metadata": {
        "colab": {
          "base_uri": "https://localhost:8080/"
        },
        "id": "XVfG-XisR7V6",
        "outputId": "1f0ac574-f2ec-4ed4-e78f-a938e4d375f6"
      },
      "execution_count": 6,
      "outputs": [
        {
          "output_type": "execute_result",
          "data": {
            "text/plain": [
              "dtype('float64')"
            ]
          },
          "metadata": {},
          "execution_count": 6
        }
      ]
    },
    {
      "cell_type": "markdown",
      "source": [
        "**TENSORS**"
      ],
      "metadata": {
        "id": "-rASaeCrSG5F"
      }
    },
    {
      "cell_type": "code",
      "source": [
        "tensor_2d = torch.randn(3,4)\n",
        "tensor_2d\n",
        "#tensor_2d.dtype"
      ],
      "metadata": {
        "colab": {
          "base_uri": "https://localhost:8080/"
        },
        "id": "899i3tSCSKL1",
        "outputId": "ba5678fd-3ed1-43e3-d0c7-6d58a5fa0feb"
      },
      "execution_count": 12,
      "outputs": [
        {
          "output_type": "execute_result",
          "data": {
            "text/plain": [
              "tensor([[ 0.9627, -0.8910,  1.0259,  0.5842],\n",
              "        [-0.3505,  1.3016, -0.1618,  1.1785],\n",
              "        [-1.8298,  1.0281,  1.3008,  0.0412]])"
            ]
          },
          "metadata": {},
          "execution_count": 12
        }
      ]
    },
    {
      "cell_type": "code",
      "source": [
        "tensor_3d = torch.zeros(2,3,4)\n",
        "tensor_3d"
      ],
      "metadata": {
        "colab": {
          "base_uri": "https://localhost:8080/"
        },
        "id": "n4IG1FUjSWPU",
        "outputId": "e72b7ecc-eb09-47e2-f139-b28403a1a32d"
      },
      "execution_count": 9,
      "outputs": [
        {
          "output_type": "execute_result",
          "data": {
            "text/plain": [
              "tensor([[[0., 0., 0., 0.],\n",
              "         [0., 0., 0., 0.],\n",
              "         [0., 0., 0., 0.]],\n",
              "\n",
              "        [[0., 0., 0., 0.],\n",
              "         [0., 0., 0., 0.],\n",
              "         [0., 0., 0., 0.]]])"
            ]
          },
          "metadata": {},
          "execution_count": 9
        }
      ]
    },
    {
      "cell_type": "code",
      "source": [
        "## Create tensor out of numpy array\n",
        "my_tensor = torch.tensor(np1)\n",
        "my_tensor"
      ],
      "metadata": {
        "colab": {
          "base_uri": "https://localhost:8080/"
        },
        "id": "VVdyLHazSpHp",
        "outputId": "7b75fbd1-9c5e-4c16-c294-a1ccf75c9208"
      },
      "execution_count": 10,
      "outputs": [
        {
          "output_type": "execute_result",
          "data": {
            "text/plain": [
              "tensor([[0.8423, 0.8308, 0.3958, 0.2911],\n",
              "        [0.4600, 0.6388, 0.2435, 0.3384],\n",
              "        [0.4761, 0.3741, 0.1943, 0.0105]], dtype=torch.float64)"
            ]
          },
          "metadata": {},
          "execution_count": 10
        }
      ]
    },
    {
      "cell_type": "code",
      "source": [],
      "metadata": {
        "id": "ct6kWNCzS2Zx"
      },
      "execution_count": null,
      "outputs": []
    }
  ]
}